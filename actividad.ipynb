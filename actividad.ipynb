{
 "cells": [
  {
   "cell_type": "markdown",
   "id": "498731c6",
   "metadata": {},
   "source": [
    "# Actividad - Trabajando con Series de Pandas.\n",
    "## Criterios de evaluación.\n",
    "\n",
    "* Se deben utilizar nombres de variables descriptivos y claros (Utilizar la nomeclatura correspondiente para los nombres de variables).\n",
    "* Comentarios claros y concisos que expliquen el propósito de cada sección del código.\n",
    "* Utilizar mensajes de commit **descriptivos**. (Puedes utilizar la extension CONVENTIONAL COMMIT de VS-CODE). \n",
    "* Entrega en tiempo y forma.\n",
    "* Todo el código desarrollado debe ser subido a un repositorio en GitHub (el nombre del repositorio de seguir la siguiente estructura: actividad_tlp3_nombre_apellido).\n",
    "* Para resolver las actividades se debe insertar casillas de codigo entre cada actividad del cuaderno de Jupyter\n",
    "\n",
    "### ¡Importante!\n",
    "**El incumplimiento de los criterios de evaluación restará puntos en la nota final del práctico!**"
   ]
  },
  {
   "cell_type": "code",
   "execution_count": 27,
   "id": "e2466478",
   "metadata": {},
   "outputs": [],
   "source": [
    "#importacion de pandas y  series\n",
    "import pandas as pd\n",
    "from pandas import Series\n",
    "import random \n",
    "from random import randint"
   ]
  },
  {
   "cell_type": "markdown",
   "id": "b361a7b6",
   "metadata": {},
   "source": [
    "### **Actividad 1:** \n",
    "\n",
    "Crear Series desde diferentes estructuras.\n",
    "* Crea una Series con los números del 1 al 5\n",
    "* Crea una Series a partir de un diccionario con nombres de países como claves y sus capitales como valores."
   ]
  },
  {
   "cell_type": "code",
   "execution_count": null,
   "id": "26009294",
   "metadata": {},
   "outputs": [
    {
     "data": {
      "text/plain": [
       "[1, 2, 3, 4, 5]"
      ]
     },
     "execution_count": 8,
     "metadata": {},
     "output_type": "execute_result"
    }
   ],
   "source": [
    "\n",
    "# Creacion de lista con secuencia de 1 al 5:\n",
    "lista = list(range (1,6))\n",
    "lista\n",
    "\n"
   ]
  },
  {
   "cell_type": "code",
   "execution_count": 24,
   "id": "00cbee4e",
   "metadata": {},
   "outputs": [
    {
     "data": {
      "text/plain": [
       "1    1\n",
       "2    2\n",
       "3    3\n",
       "4    4\n",
       "5    5\n",
       "dtype: int64"
      ]
     },
     "execution_count": 24,
     "metadata": {},
     "output_type": "execute_result"
    }
   ],
   "source": [
    "#Creacion de una serie apartir de la lista\n",
    "serie = Series(lista, index=lista)\n",
    "serie"
   ]
  },
  {
   "cell_type": "code",
   "execution_count": 9,
   "id": "3925e9c9",
   "metadata": {},
   "outputs": [
    {
     "data": {
      "text/plain": [
       "Argentina    Buenos Aires\n",
       "Alemania           Berlin\n",
       "Canada             Ottawa\n",
       "China               Pekin\n",
       "Italia               Roma\n",
       "Australia        Canberra\n",
       "dtype: object"
      ]
     },
     "execution_count": 9,
     "metadata": {},
     "output_type": "execute_result"
    }
   ],
   "source": [
    "#Creacion de diccionario con paises y capitales\n",
    "diccionario = {\"Argentina\": \"Buenos Aires\", \"Alemania\":\"Berlin\", \"Canada\":\"Ottawa\", \"China\":\"Pekin\", \"Italia\": \"Roma\", \"Australia\": \"Canberra\" }\n",
    "#Creacion de serie apartir del diccionario\n",
    "paises = Series(diccionario)\n",
    "paises"
   ]
  },
  {
   "cell_type": "markdown",
   "id": "0c239195",
   "metadata": {},
   "source": [
    "### **Actividad 2:** \n",
    "Acceso y selección de elementos.\n",
    "* Usa una Series con tareas (que haceres cotidianos) de una semana\n",
    "* Accede a diferentes elementos a elección.\n",
    "* Cambia los valores de los dias pares.\n"
   ]
  },
  {
   "cell_type": "code",
   "execution_count": 26,
   "id": "3611d25a",
   "metadata": {},
   "outputs": [
    {
     "data": {
      "text/plain": [
       "Lunes               Lavar Ropa\n",
       "Martes                  Barrer\n",
       "Miercoles      Baldear el piso\n",
       "Jueves       Regar las plantas\n",
       "Viernes        Sacar la basura\n",
       "Sabado         Limpiar el baño\n",
       "Domingo         Doblar la ropa\n",
       "dtype: object"
      ]
     },
     "execution_count": 26,
     "metadata": {},
     "output_type": "execute_result"
    }
   ],
   "source": [
    "#Creamos un diccionario y pasamos a Serie\n",
    "semana = {\"Lunes\":\"Lavar Ropa\", \"Martes\" : \"Barrer\", \"Miercoles\":\"Baldear el piso\", \"Jueves\":\"Regar las plantas\",\"Viernes\":\"Sacar la basura\", \"Sabado\":\"Limpiar el baño\", \"Domingo\":\"Doblar la ropa\"}\n",
    "tareas = Series(semana) \n",
    "tareas \n",
    "\n"
   ]
  },
  {
   "cell_type": "code",
   "execution_count": null,
   "id": "5e83edec",
   "metadata": {},
   "outputs": [
    {
     "data": {
      "text/plain": [
       "Lunes             Lavar Ropa\n",
       "Martes                Barrer\n",
       "Miercoles    Baldear el piso\n",
       "dtype: object"
      ]
     },
     "execution_count": 21,
     "metadata": {},
     "output_type": "execute_result"
    }
   ],
   "source": [
    "#Accede a los primeros 3 elementos\n",
    "tareas.head(3)"
   ]
  },
  {
   "cell_type": "code",
   "execution_count": null,
   "id": "78381414",
   "metadata": {},
   "outputs": [
    {
     "data": {
      "text/plain": [
       "Sabado     Limpiar el baño\n",
       "Domingo     Doblar la ropa\n",
       "dtype: object"
      ]
     },
     "execution_count": 22,
     "metadata": {},
     "output_type": "execute_result"
    }
   ],
   "source": [
    "#Accede a los ultimos 2 elementos\n",
    "tareas.tail(2)"
   ]
  },
  {
   "cell_type": "code",
   "execution_count": null,
   "id": "ae804616",
   "metadata": {},
   "outputs": [
    {
     "data": {
      "text/plain": [
       "Lunes             Lavar Ropa\n",
       "Martes                 Coser\n",
       "Miercoles    Baldear el piso\n",
       "Jueves               Cocinar\n",
       "Viernes      Sacar la basura\n",
       "Sabado        Pintar la casa\n",
       "Domingo       Doblar la ropa\n",
       "dtype: object"
      ]
     },
     "execution_count": 25,
     "metadata": {},
     "output_type": "execute_result"
    }
   ],
   "source": [
    "#Cambiar los valores de los dias martes, jueves y sabados\n",
    "tareas.update({\n",
    " \"Martes\":\"Coser\",\n",
    "  \"Jueves\":\"Cocinar\",\n",
    "  \"Sabado\": \"Pintar la casa\"})\n",
    "tareas"
   ]
  },
  {
   "cell_type": "markdown",
   "id": "70a24b97",
   "metadata": {},
   "source": [
    "### **Actividad 3:**\n",
    "Operaciones aritméticas. \n",
    "* Realiza las operaciones basicas con 2 series cuales quieran.\n",
    "* Eleva los valores de la primer serie a 3 potencias difetentes."
   ]
  },
  {
   "cell_type": "code",
   "execution_count": 40,
   "id": "a9c8ebc7",
   "metadata": {},
   "outputs": [
    {
     "name": "stdout",
     "output_type": "stream",
     "text": [
      "Primera serie:\n",
      " 1    1\n",
      "2    2\n",
      "3    3\n",
      "4    4\n",
      "5    5\n",
      "dtype: int64\n",
      "Segunda serie:\n",
      " 1    1\n",
      "5    5\n",
      "8    8\n",
      "5    5\n",
      "4    4\n",
      "9    9\n",
      "dtype: int64\n"
     ]
    }
   ],
   "source": [
    "\n",
    "# Creamos una series con números\n",
    "lista_nueva = [random.randint(1,9) for i in range(6)]\n",
    "serie2 = Series(lista_nueva, index=lista_nueva)\n",
    "\n",
    "#Llamamos a la serie creada en la actividad n1\n",
    "print(\"Primera serie:\\n\", serie)\n",
    "print(\"Segunda serie:\\n\", serie2)\n"
   ]
  },
  {
   "cell_type": "code",
   "execution_count": 38,
   "id": "11f722f8",
   "metadata": {},
   "outputs": [
    {
     "name": "stdout",
     "output_type": "stream",
     "text": [
      "Suma:\n",
      " 0     NaN\n",
      "1     8.0\n",
      "2     3.0\n",
      "3     8.0\n",
      "4    11.0\n",
      "5    10.0\n",
      "dtype: float64\n",
      "\n",
      "Resta:\n",
      " 0    NaN\n",
      "1   -6.0\n",
      "2    1.0\n",
      "3   -2.0\n",
      "4   -3.0\n",
      "5    0.0\n",
      "dtype: float64\n"
     ]
    }
   ],
   "source": [
    "# Operaciones basicas con dos series\n",
    "suma = serie + serie2\n",
    "resta = serie - serie2\n",
    "multiplicacion = serie * serie2\n",
    "division = serie / serie2\n",
    "\n",
    "print(\"Suma:\\n\", suma)\n",
    "print(\"\\nResta:\\n\", resta)\n",
    "\n"
   ]
  },
  {
   "cell_type": "code",
   "execution_count": 45,
   "id": "1df18033",
   "metadata": {},
   "outputs": [
    {
     "name": "stdout",
     "output_type": "stream",
     "text": [
      "\n",
      "Multiplicación:\n",
      " 0     NaN\n",
      "1     7.0\n",
      "2     2.0\n",
      "3    15.0\n",
      "4    28.0\n",
      "5    25.0\n",
      "dtype: float64\n",
      "\n",
      "División:\n",
      " 0         NaN\n",
      "1    0.142857\n",
      "2    2.000000\n",
      "3    0.600000\n",
      "4    0.571429\n",
      "5    1.000000\n",
      "dtype: float64\n"
     ]
    }
   ],
   "source": [
    "#Imprimimos la multiplicacion y division\n",
    "print(\"\\nMultiplicación:\\n\", multiplicacion)\n",
    "print(\"\\nDivisión:\\n\", division)"
   ]
  },
  {
   "cell_type": "code",
   "execution_count": 44,
   "id": "3af7435f",
   "metadata": {},
   "outputs": [
    {
     "name": "stdout",
     "output_type": "stream",
     "text": [
      "\n",
      ":Serie a la potencia de 2\n",
      " 1     1\n",
      "2     4\n",
      "3     9\n",
      "4    16\n",
      "5    25\n",
      "dtype: int64\n",
      "\n",
      "Serie a la potencia de 3:\n",
      " 1      1\n",
      "2      8\n",
      "3     27\n",
      "4     64\n",
      "5    125\n",
      "dtype: int64\n",
      "\n",
      "Serie a la potencia de 5:\n",
      " 1       1\n",
      "2      32\n",
      "3     243\n",
      "4    1024\n",
      "5    3125\n",
      "dtype: int64\n"
     ]
    }
   ],
   "source": [
    "\n",
    "# Potenciar la primer serie\n",
    "potencia2 = serie ** 2\n",
    "potencia3 = serie ** 3\n",
    "potencia5 = serie ** 5\n",
    "\n",
    "print(\"\\n:Serie a la potencia de 2\\n\", potencia2)\n",
    "print(\"\\nSerie a la potencia de 3:\\n\", potencia3)\n",
    "print(\"\\nSerie a la potencia de 5:\\n\", potencia5)"
   ]
  },
  {
   "cell_type": "markdown",
   "id": "b8dac397",
   "metadata": {},
   "source": [
    "### **Actividad 4:** \n",
    "Filtrado con condiciones.\n",
    "* Crea una Series de edades de 10 personas.\n",
    "* Muestra solo a los mayores de 18.\n",
    "* Reemplaza a los menores por \"Menor de edad\"."
   ]
  },
  {
   "cell_type": "code",
   "execution_count": null,
   "id": "d04fd492",
   "metadata": {},
   "outputs": [],
   "source": [
    "\n"
   ]
  },
  {
   "cell_type": "markdown",
   "id": "8889d0f2",
   "metadata": {},
   "source": [
    "### Actividad 5:\n",
    "Estadísticas básicas.\n",
    "\n",
    "* Crea una Series con las notas de 10 estudiantes.\n",
    "* Calcula la media, mediana, desviación estándar y máximo.\n",
    "* Muestra cuántos estudiantes aprobaron si el mínimo para aprobar es 6.\n",
    "* Ordenar las notas de manera ascendente y descendente. "
   ]
  },
  {
   "cell_type": "code",
   "execution_count": null,
   "id": "bc0ec844",
   "metadata": {},
   "outputs": [],
   "source": [
    "\n",
    "\n"
   ]
  }
 ],
 "metadata": {
  "kernelspec": {
   "display_name": "env",
   "language": "python",
   "name": "python3"
  },
  "language_info": {
   "codemirror_mode": {
    "name": "ipython",
    "version": 3
   },
   "file_extension": ".py",
   "mimetype": "text/x-python",
   "name": "python",
   "nbconvert_exporter": "python",
   "pygments_lexer": "ipython3",
   "version": "3.13.2"
  }
 },
 "nbformat": 4,
 "nbformat_minor": 5
}
