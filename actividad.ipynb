{
 "cells": [
  {
   "cell_type": "markdown",
   "id": "498731c6",
   "metadata": {},
   "source": [
    "# Actividad - Trabajando con Series de Pandas.\n",
    "## Criterios de evaluación.\n",
    "\n",
    "* Se deben utilizar nombres de variables descriptivos y claros (Utilizar la nomeclatura correspondiente para los nombres de variables).\n",
    "* Comentarios claros y concisos que expliquen el propósito de cada sección del código.\n",
    "* Utilizar mensajes de commit **descriptivos**. (Puedes utilizar la extension CONVENTIONAL COMMIT de VS-CODE). \n",
    "* Entrega en tiempo y forma.\n",
    "* Todo el código desarrollado debe ser subido a un repositorio en GitHub (el nombre del repositorio de seguir la siguiente estructura: actividad_tlp3_nombre_apellido).\n",
    "* Para resolver las actividades se debe insertar casillas de codigo entre cada actividad del cuaderno de Jupyter\n",
    "\n",
    "### ¡Importante!\n",
    "**El incumplimiento de los criterios de evaluación restará puntos en la nota final del práctico!**"
   ]
  },
  {
   "cell_type": "code",
   "execution_count": 60,
   "id": "e2466478",
   "metadata": {},
   "outputs": [],
   "source": [
    "#importacion de pandas y  series\n",
    "import pandas as pd\n",
    "from pandas import Series\n",
    "import random \n",
    "from random import randint"
   ]
  },
  {
   "cell_type": "markdown",
   "id": "b361a7b6",
   "metadata": {},
   "source": [
    "### **Actividad 1:** \n",
    "\n",
    "Crear Series desde diferentes estructuras.\n",
    "* Crea una Series con los números del 1 al 5\n",
    "* Crea una Series a partir de un diccionario con nombres de países como claves y sus capitales como valores."
   ]
  },
  {
   "cell_type": "code",
   "execution_count": 61,
   "id": "26009294",
   "metadata": {},
   "outputs": [
    {
     "data": {
      "text/plain": [
       "[1, 2, 3, 4, 5]"
      ]
     },
     "execution_count": 61,
     "metadata": {},
     "output_type": "execute_result"
    }
   ],
   "source": [
    "\n",
    "# Creacion de lista con secuencia de 1 al 5:\n",
    "lista = list(range (1,6))\n",
    "lista\n",
    "\n"
   ]
  },
  {
   "cell_type": "code",
   "execution_count": 62,
   "id": "00cbee4e",
   "metadata": {},
   "outputs": [
    {
     "data": {
      "text/plain": [
       "1    1\n",
       "2    2\n",
       "3    3\n",
       "4    4\n",
       "5    5\n",
       "dtype: int64"
      ]
     },
     "execution_count": 62,
     "metadata": {},
     "output_type": "execute_result"
    }
   ],
   "source": [
    "#Creacion de una serie apartir de la lista\n",
    "serie = Series(lista, index=lista)\n",
    "serie"
   ]
  },
  {
   "cell_type": "code",
   "execution_count": 63,
   "id": "3925e9c9",
   "metadata": {},
   "outputs": [
    {
     "data": {
      "text/plain": [
       "Argentina    Buenos Aires\n",
       "Alemania           Berlin\n",
       "Canada             Ottawa\n",
       "China               Pekin\n",
       "Italia               Roma\n",
       "Australia        Canberra\n",
       "dtype: object"
      ]
     },
     "execution_count": 63,
     "metadata": {},
     "output_type": "execute_result"
    }
   ],
   "source": [
    "#Creacion de diccionario con paises y capitales\n",
    "diccionario = {\"Argentina\": \"Buenos Aires\", \"Alemania\":\"Berlin\", \"Canada\":\"Ottawa\", \"China\":\"Pekin\", \"Italia\": \"Roma\", \"Australia\": \"Canberra\" }\n",
    "#Creacion de serie apartir del diccionario\n",
    "paises = Series(diccionario)\n",
    "paises"
   ]
  },
  {
   "cell_type": "markdown",
   "id": "0c239195",
   "metadata": {},
   "source": [
    "### **Actividad 2:** \n",
    "Acceso y selección de elementos.\n",
    "* Usa una Series con tareas (que haceres cotidianos) de una semana\n",
    "* Accede a diferentes elementos a elección.\n",
    "* Cambia los valores de los dias pares.\n"
   ]
  },
  {
   "cell_type": "code",
   "execution_count": 64,
   "id": "3611d25a",
   "metadata": {},
   "outputs": [
    {
     "data": {
      "text/plain": [
       "Lunes               Lavar Ropa\n",
       "Martes                  Barrer\n",
       "Miercoles      Baldear el piso\n",
       "Jueves       Regar las plantas\n",
       "Viernes        Sacar la basura\n",
       "Sabado         Limpiar el baño\n",
       "Domingo         Doblar la ropa\n",
       "dtype: object"
      ]
     },
     "execution_count": 64,
     "metadata": {},
     "output_type": "execute_result"
    }
   ],
   "source": [
    "#Creamos un diccionario y pasamos a Serie\n",
    "semana = {\"Lunes\":\"Lavar Ropa\", \"Martes\" : \"Barrer\", \"Miercoles\":\"Baldear el piso\", \"Jueves\":\"Regar las plantas\",\"Viernes\":\"Sacar la basura\", \"Sabado\":\"Limpiar el baño\", \"Domingo\":\"Doblar la ropa\"}\n",
    "tareas = Series(semana) \n",
    "tareas \n",
    "\n"
   ]
  },
  {
   "cell_type": "code",
   "execution_count": 65,
   "id": "5e83edec",
   "metadata": {},
   "outputs": [
    {
     "data": {
      "text/plain": [
       "Lunes             Lavar Ropa\n",
       "Martes                Barrer\n",
       "Miercoles    Baldear el piso\n",
       "dtype: object"
      ]
     },
     "execution_count": 65,
     "metadata": {},
     "output_type": "execute_result"
    }
   ],
   "source": [
    "#Accede a los primeros 3 elementos\n",
    "tareas.head(3)"
   ]
  },
  {
   "cell_type": "code",
   "execution_count": 66,
   "id": "78381414",
   "metadata": {},
   "outputs": [
    {
     "data": {
      "text/plain": [
       "Sabado     Limpiar el baño\n",
       "Domingo     Doblar la ropa\n",
       "dtype: object"
      ]
     },
     "execution_count": 66,
     "metadata": {},
     "output_type": "execute_result"
    }
   ],
   "source": [
    "#Accede a los ultimos 2 elementos\n",
    "tareas.tail(2)"
   ]
  },
  {
   "cell_type": "code",
   "execution_count": 67,
   "id": "ae804616",
   "metadata": {},
   "outputs": [
    {
     "data": {
      "text/plain": [
       "Lunes             Lavar Ropa\n",
       "Martes                 Coser\n",
       "Miercoles    Baldear el piso\n",
       "Jueves               Cocinar\n",
       "Viernes      Sacar la basura\n",
       "Sabado        Pintar la casa\n",
       "Domingo       Doblar la ropa\n",
       "dtype: object"
      ]
     },
     "execution_count": 67,
     "metadata": {},
     "output_type": "execute_result"
    }
   ],
   "source": [
    "#Cambiar los valores de los dias martes, jueves y sabados\n",
    "tareas.update({\n",
    " \"Martes\":\"Coser\",\n",
    "  \"Jueves\":\"Cocinar\",\n",
    "  \"Sabado\": \"Pintar la casa\"})\n",
    "tareas"
   ]
  },
  {
   "cell_type": "markdown",
   "id": "70a24b97",
   "metadata": {},
   "source": [
    "### **Actividad 3:**\n",
    "Operaciones aritméticas. \n",
    "* Realiza las operaciones basicas con 2 series cuales quieran.\n",
    "* Eleva los valores de la primer serie a 3 potencias difetentes."
   ]
  },
  {
   "cell_type": "code",
   "execution_count": 68,
   "id": "a9c8ebc7",
   "metadata": {},
   "outputs": [
    {
     "name": "stdout",
     "output_type": "stream",
     "text": [
      "Primera serie:\n",
      " 1    1\n",
      "2    2\n",
      "3    3\n",
      "4    4\n",
      "5    5\n",
      "dtype: int64\n",
      "Segunda serie:\n",
      " 6    6\n",
      "3    3\n",
      "1    1\n",
      "9    9\n",
      "7    7\n",
      "8    8\n",
      "dtype: int64\n"
     ]
    }
   ],
   "source": [
    "\n",
    "# Creamos una series con números\n",
    "lista_nueva = [random.randint(1,9) for i in range(6)]\n",
    "serie2 = Series(lista_nueva, index=lista_nueva)\n",
    "\n",
    "#Llamamos a la serie creada en la actividad n1\n",
    "print(\"Primera serie:\\n\", serie)\n",
    "print(\"Segunda serie:\\n\", serie2)\n"
   ]
  },
  {
   "cell_type": "code",
   "execution_count": 69,
   "id": "11f722f8",
   "metadata": {},
   "outputs": [
    {
     "name": "stdout",
     "output_type": "stream",
     "text": [
      "Suma:\n",
      " 1    2.0\n",
      "2    NaN\n",
      "3    6.0\n",
      "4    NaN\n",
      "5    NaN\n",
      "6    NaN\n",
      "7    NaN\n",
      "8    NaN\n",
      "9    NaN\n",
      "dtype: float64\n",
      "\n",
      "Resta:\n",
      " 1    0.0\n",
      "2    NaN\n",
      "3    0.0\n",
      "4    NaN\n",
      "5    NaN\n",
      "6    NaN\n",
      "7    NaN\n",
      "8    NaN\n",
      "9    NaN\n",
      "dtype: float64\n"
     ]
    }
   ],
   "source": [
    "# Operaciones basicas con dos series\n",
    "suma = serie + serie2\n",
    "resta = serie - serie2\n",
    "multiplicacion = serie * serie2\n",
    "division = serie / serie2\n",
    "\n",
    "print(\"Suma:\\n\", suma)\n",
    "print(\"\\nResta:\\n\", resta)\n",
    "\n"
   ]
  },
  {
   "cell_type": "code",
   "execution_count": null,
   "id": "1df18033",
   "metadata": {},
   "outputs": [
    {
     "name": "stdout",
     "output_type": "stream",
     "text": [
      "\n",
      "Multiplicación:\n",
      " 1    1.0\n",
      "2    NaN\n",
      "3    9.0\n",
      "4    NaN\n",
      "5    NaN\n",
      "6    NaN\n",
      "7    NaN\n",
      "8    NaN\n",
      "9    NaN\n",
      "dtype: float64\n",
      "\n",
      "División:\n",
      " 1    1.0\n",
      "2    NaN\n",
      "3    1.0\n",
      "4    NaN\n",
      "5    NaN\n",
      "6    NaN\n",
      "7    NaN\n",
      "8    NaN\n",
      "9    NaN\n",
      "dtype: float64\n"
     ]
    }
   ],
   "source": [
    "#Imprimimos la multiplicacion y division\n",
    "print(\"\\nMultiplicación:\\n\", multiplicacion)\n",
    "print(\"\\nDivisión:\\n\", division)"
   ]
  },
  {
   "cell_type": "code",
   "execution_count": null,
   "id": "3af7435f",
   "metadata": {},
   "outputs": [
    {
     "name": "stdout",
     "output_type": "stream",
     "text": [
      "\n",
      ":Serie a la potencia de 2\n",
      " 1     1\n",
      "2     4\n",
      "3     9\n",
      "4    16\n",
      "5    25\n",
      "dtype: int64\n",
      "\n",
      "Serie a la potencia de 3:\n",
      " 1      1\n",
      "2      8\n",
      "3     27\n",
      "4     64\n",
      "5    125\n",
      "dtype: int64\n",
      "\n",
      "Serie a la potencia de 5:\n",
      " 1       1\n",
      "2      32\n",
      "3     243\n",
      "4    1024\n",
      "5    3125\n",
      "dtype: int64\n"
     ]
    }
   ],
   "source": [
    "\n",
    "# Potenciar la primer serie\n",
    "potencia2 = serie ** 2\n",
    "potencia3 = serie ** 3\n",
    "potencia5 = serie ** 5\n",
    "\n",
    "print(\"\\n:Serie a la potencia de 2\\n\", potencia2)\n",
    "print(\"\\nSerie a la potencia de 3:\\n\", potencia3)\n",
    "print(\"\\nSerie a la potencia de 5:\\n\", potencia5)"
   ]
  },
  {
   "cell_type": "markdown",
   "id": "b8dac397",
   "metadata": {},
   "source": [
    "### **Actividad 4:** \n",
    "Filtrado con condiciones.\n",
    "* Crea una Series de edades de 10 personas.\n",
    "* Muestra solo a los mayores de 18.\n",
    "* Reemplaza a los menores por \"Menor de edad\"."
   ]
  },
  {
   "cell_type": "code",
   "execution_count": 84,
   "id": "d04fd492",
   "metadata": {},
   "outputs": [
    {
     "data": {
      "text/plain": [
       "0    77\n",
       "1     5\n",
       "2    72\n",
       "3    74\n",
       "4    38\n",
       "5    79\n",
       "6    44\n",
       "7    52\n",
       "8    26\n",
       "9    19\n",
       "dtype: int64"
      ]
     },
     "execution_count": 84,
     "metadata": {},
     "output_type": "execute_result"
    }
   ],
   "source": [
    "#Crear una lista con 10 elementos random\n",
    "lista_edad = [random.randint(1, 80) for _ in range(10)]\n",
    "#Pasar la lista a Series\n",
    "edades = Series(lista_edad)\n",
    "edades\n"
   ]
  },
  {
   "cell_type": "code",
   "execution_count": 81,
   "id": "e55129af",
   "metadata": {},
   "outputs": [
    {
     "data": {
      "text/plain": [
       "0    79\n",
       "2    80\n",
       "3    52\n",
       "4    71\n",
       "6    77\n",
       "7    57\n",
       "8    57\n",
       "9    38\n",
       "dtype: int64"
      ]
     },
     "execution_count": 81,
     "metadata": {},
     "output_type": "execute_result"
    }
   ],
   "source": [
    "#Definimos una variable que guardara solo los elementos mayores a 18\n",
    "mayores_18 = edades[edades>18 ]\n",
    "mayores_18"
   ]
  },
  {
   "cell_type": "code",
   "execution_count": null,
   "id": "4b12bf26",
   "metadata": {},
   "outputs": [
    {
     "name": "stderr",
     "output_type": "stream",
     "text": [
      "C:\\Users\\IPF-2025\\AppData\\Local\\Temp\\ipykernel_11928\\3992719602.py:4: FutureWarning: Setting an item of incompatible dtype is deprecated and will raise an error in a future version of pandas. Value '['Menor de edad']' has dtype incompatible with int64, please explicitly cast to a compatible dtype first.\n",
      "  edades.update(menor_edad)\n"
     ]
    },
    {
     "data": {
      "text/plain": [
       "0               77\n",
       "1    Menor de edad\n",
       "2               72\n",
       "3               74\n",
       "4               38\n",
       "5               79\n",
       "6               44\n",
       "7               52\n",
       "8               26\n",
       "9               19\n",
       "dtype: object"
      ]
     },
     "execution_count": 85,
     "metadata": {},
     "output_type": "execute_result"
    }
   ],
   "source": [
    "#Filtra los menores a 18 y convierte cada uno en \"Menor de edad\"\n",
    " #Volve a ejecutar la celda donde define edades cada vez que se ejecuta esta celda\n",
    "menor_edad = edades[edades <= 18].apply(lambda x: \"Menor de edad\")\n",
    "edades.update(menor_edad)\n",
    "edades"
   ]
  },
  {
   "cell_type": "markdown",
   "id": "8889d0f2",
   "metadata": {},
   "source": [
    "### Actividad 5:\n",
    "Estadísticas básicas.\n",
    "\n",
    "* Crea una Series con las notas de 10 estudiantes.\n",
    "* Calcula la media, mediana, desviación estándar y máximo.\n",
    "* Muestra cuántos estudiantes aprobaron si el mínimo para aprobar es 6.\n",
    "* Ordenar las notas de manera ascendente y descendente. "
   ]
  },
  {
   "cell_type": "code",
   "execution_count": 98,
   "id": "bc0ec844",
   "metadata": {},
   "outputs": [
    {
     "data": {
      "text/plain": [
       "Gomez        10\n",
       "Lopez         4\n",
       "Medina        9\n",
       "Quiroga       6\n",
       "Britez        8\n",
       "Fernandez     2\n",
       "Acosta        5\n",
       "Ramirez       6\n",
       "Ojeda         4\n",
       "Torres        9\n",
       "dtype: int64"
      ]
     },
     "execution_count": 98,
     "metadata": {},
     "output_type": "execute_result"
    }
   ],
   "source": [
    "#Creamos un diccionario donde las claves son los Apellidos y los valores las calificaciones\n",
    "dicc_calificaciones = { \"Gomez\": 10,\"Lopez\": 4,\"Medina\": 9,\"Quiroga\": 6,\"Britez\": 8, \"Fernandez\": 2, \"Acosta\": 5,\"Ramirez\": 6,\"Ojeda\": 4,\"Torres\": 9}\n",
    "#Pasamos el diccionario a serie\n",
    "calificaciones = Series(dicc_calificaciones)\n",
    "calificaciones\n"
   ]
  },
  {
   "cell_type": "code",
   "execution_count": 96,
   "id": "bbc9709a",
   "metadata": {},
   "outputs": [
    {
     "data": {
      "text/plain": [
       "np.float64(7.2)"
      ]
     },
     "execution_count": 96,
     "metadata": {},
     "output_type": "execute_result"
    }
   ],
   "source": [
    "calificaciones.mean()"
   ]
  },
  {
   "cell_type": "code",
   "execution_count": 94,
   "id": "f2dd9c94",
   "metadata": {},
   "outputs": [
    {
     "data": {
      "text/plain": [
       "np.float64(7.5)"
      ]
     },
     "execution_count": 94,
     "metadata": {},
     "output_type": "execute_result"
    }
   ],
   "source": [
    "calificaciones.median()"
   ]
  },
  {
   "cell_type": "code",
   "execution_count": 91,
   "id": "e5593be5",
   "metadata": {},
   "outputs": [
    {
     "data": {
      "text/plain": [
       "np.float64(1.9321835661585918)"
      ]
     },
     "execution_count": 91,
     "metadata": {},
     "output_type": "execute_result"
    }
   ],
   "source": [
    "calificaciones.std()"
   ]
  },
  {
   "cell_type": "code",
   "execution_count": 95,
   "id": "e5e9b2f7",
   "metadata": {},
   "outputs": [
    {
     "data": {
      "text/plain": [
       "np.int64(10)"
      ]
     },
     "execution_count": 95,
     "metadata": {},
     "output_type": "execute_result"
    }
   ],
   "source": [
    "calificaciones.max()"
   ]
  },
  {
   "cell_type": "code",
   "execution_count": null,
   "id": "506f0487",
   "metadata": {},
   "outputs": [
    {
     "name": "stdout",
     "output_type": "stream",
     "text": [
      "Estudiantes aprobados:\n",
      " Gomez      10\n",
      "Medina      9\n",
      "Quiroga     6\n",
      "Britez      8\n",
      "Ramirez     6\n",
      "Torres      9\n",
      "dtype: int64\n"
     ]
    }
   ],
   "source": [
    "#Buscamos que valor es igual y mayor a 6 y lo lamacenamos en la variable aprobados\n",
    "aprobados = calificaciones[calificaciones >= 6]\n",
    "print(\"Estudiantes aprobados:\\n\", aprobados)"
   ]
  },
  {
   "cell_type": "code",
   "execution_count": 102,
   "id": "be5b7539",
   "metadata": {},
   "outputs": [
    {
     "data": {
      "text/plain": [
       "Fernandez     2\n",
       "Lopez         4\n",
       "Ojeda         4\n",
       "Acosta        5\n",
       "Ramirez       6\n",
       "Quiroga       6\n",
       "Britez        8\n",
       "Medina        9\n",
       "Torres        9\n",
       "Gomez        10\n",
       "dtype: int64"
      ]
     },
     "execution_count": 102,
     "metadata": {},
     "output_type": "execute_result"
    }
   ],
   "source": [
    "ascendente = calificaciones.sort_values()\n",
    "ascendente"
   ]
  },
  {
   "cell_type": "code",
   "execution_count": 103,
   "id": "0b66aded",
   "metadata": {},
   "outputs": [
    {
     "data": {
      "text/plain": [
       "Gomez        10\n",
       "Medina        9\n",
       "Torres        9\n",
       "Britez        8\n",
       "Ramirez       6\n",
       "Quiroga       6\n",
       "Acosta        5\n",
       "Lopez         4\n",
       "Ojeda         4\n",
       "Fernandez     2\n",
       "dtype: int64"
      ]
     },
     "execution_count": 103,
     "metadata": {},
     "output_type": "execute_result"
    }
   ],
   "source": [
    "descendente = calificaciones.sort_values(ascending=False)\n",
    "descendente"
   ]
  }
 ],
 "metadata": {
  "kernelspec": {
   "display_name": "env",
   "language": "python",
   "name": "python3"
  },
  "language_info": {
   "codemirror_mode": {
    "name": "ipython",
    "version": 3
   },
   "file_extension": ".py",
   "mimetype": "text/x-python",
   "name": "python",
   "nbconvert_exporter": "python",
   "pygments_lexer": "ipython3",
   "version": "3.13.2"
  }
 },
 "nbformat": 4,
 "nbformat_minor": 5
}
